{
 "cells": [
  {
   "cell_type": "code",
   "execution_count": null,
   "metadata": {},
   "outputs": [],
   "source": [
    "from grid_world import RelayConfig, ClientConfig, InitConfig\n",
    "import numpy as np\n",
    "from loguru import logger\n",
    "from IPython.display import clear_output\n",
    "import time\n",
    "from gymnasium.envs.registration import register\n",
    "import gymnasium as gym\n",
    "from wrapper import RelativePosition, FlattenDict, SerializeAction\n",
    "\n",
    "size = 1000\n",
    "relay_config = RelayConfig(num=10, speed=10.)\n",
    "client_config = ClientConfig(num=100, speed=5., is_move=False)\n",
    "init_config = InitConfig(center_type=\"center\", relay_type=\"follow_nearby\", client_type=\"random\")\n",
    "\n",
    "# register the environment\n",
    "register(\n",
    "    id='GridWorld-v0',\n",
    "    entry_point='grid_world:GridWorldEnv',\n",
    "    max_episode_steps=100,\n",
    "    kwargs={\n",
    "        \"size\": 1000,\n",
    "        \"relay_config\": relay_config,\n",
    "        \"client_config\": client_config,\n",
    "        \"init_config\": init_config,\n",
    "        \"is_polar\": False,\n",
    "        \"is_plot\": True,\n",
    "        \"is_log\": True,\n",
    "    }\n",
    ")\n",
    "\n",
    "# create the environment\n",
    "origin_env = gym.make('GridWorld-v0')\n",
    "\n",
    "env = RelativePosition(origin_env)\n",
    "env = FlattenDict(env)\n",
    "env = SerializeAction(env, is_polar=False)\n",
    "\n",
    "seed = 0\n",
    "# Set seeds\n",
    "env.action_space.seed(seed)\n",
    "np.random.seed(seed)\n",
    "state, info = env.reset(seed=seed)\n",
    "\n",
    "for i in range(10):\n",
    "    \n",
    "    action = env.action_space.sample()\n",
    "\n",
    "    next_state, reward, terminated, truncated, info = env.step(action=action) \n",
    "    logger.info(f\"reward:{reward}\")\n",
    "\n",
    "    state = next_state\n",
    "    \n",
    "    time.sleep(1)\n",
    "    clear_output(wait=True)"
   ]
  },
  {
   "cell_type": "code",
   "execution_count": null,
   "metadata": {},
   "outputs": [],
   "source": [
    "print(info.keys())\n",
    "print(action.shape)\n",
    "print(state)"
   ]
  },
  {
   "cell_type": "code",
   "execution_count": null,
   "metadata": {},
   "outputs": [],
   "source": [
    "center_node = info[\"center_node\"]\n",
    "center_node.check_tree()\n",
    "print(env.observation_space)\n",
    "print(env.action_space)"
   ]
  },
  {
   "cell_type": "code",
   "execution_count": null,
   "metadata": {},
   "outputs": [],
   "source": [
    "# print relay_traffic\n",
    "relay_traffic = info[\"relay_traffic\"]\n",
    "logger.info(f\"relay_traffic: {[f\"{traffic:.2f}\" for traffic in relay_traffic]}\")\n",
    "# print relay_center_link_speed_list\n",
    "relay_center_link_speed_list = info[\"relay_center_link_speed_list\"]\n",
    "logger.info(f\"relay_center_link_speed: {[f\"{relay_center_link_speed:.2f}\" for relay_center_link_speed in relay_center_link_speed_list]}\")\n",
    "relay_index = np.where(relay_center_link_speed_list >0)\n",
    "logger.info(f\"relay link center id: {relay_index}\")\n",
    "logger.info(f\"relay link center speed: {relay_center_link_speed_list[relay_index]}\")"
   ]
  },
  {
   "cell_type": "code",
   "execution_count": null,
   "metadata": {},
   "outputs": [],
   "source": [
    "# print relay_distance_matrix\n",
    "relay_distance_matrix = info[\"relay_distance_matrix\"]\n",
    "for i in range(relay_distance_matrix.shape[0]):\n",
    "        logger.info(f\"node {i} distance list: {[f\"{distance:.2f}\" for distance in relay_distance_matrix[i]]}\")"
   ]
  },
  {
   "cell_type": "code",
   "execution_count": null,
   "metadata": {},
   "outputs": [],
   "source": [
    "# print relay_center_distance_list\n",
    "relay_center_distance = info[\"relay_center_distance\"]\n",
    "logger.info(f\"relay center distance: {[f\"{distance:.2f}\" for distance in relay_center_distance]}\")\n",
    "logger.info(f\"relay order: {np.argsort(relay_center_distance)}\")"
   ]
  },
  {
   "cell_type": "code",
   "execution_count": null,
   "metadata": {},
   "outputs": [],
   "source": [
    "# print relay_link_speed_matrix\n",
    "relay_link_speed_matrix = info[\"relay_link_speed_matrix\"]\n",
    "for i in range(relay_link_speed_matrix.shape[0]):\n",
    "        logger.info(f\"node {i} link speed list: {[f\"{link_speed:.2f}\" for link_speed in relay_link_speed_matrix[i]]}\")"
   ]
  }
 ],
 "metadata": {
  "kernelspec": {
   "display_name": "ddpg",
   "language": "python",
   "name": "python3"
  },
  "language_info": {
   "codemirror_mode": {
    "name": "ipython",
    "version": 3
   },
   "file_extension": ".py",
   "mimetype": "text/x-python",
   "name": "python",
   "nbconvert_exporter": "python",
   "pygments_lexer": "ipython3",
   "version": "3.12.2"
  }
 },
 "nbformat": 4,
 "nbformat_minor": 2
}
