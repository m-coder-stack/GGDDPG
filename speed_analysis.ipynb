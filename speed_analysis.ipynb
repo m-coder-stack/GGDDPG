{
 "cells": [
  {
   "cell_type": "markdown",
   "metadata": {},
   "source": [
    "### 基于给定参数计算函数的参数，并绘制函数图像"
   ]
  },
  {
   "cell_type": "code",
   "execution_count": null,
   "metadata": {},
   "outputs": [],
   "source": [
    "import matplotlib.pyplot as plt\n",
    "import numpy as np\n",
    "from solver import solve_param\n",
    "\n",
    "# 定义 x 变量的范围 (-3，3) 数量 50 \n",
    "x_range = 1200\n",
    "x=np.linspace(0,x_range,241)\n",
    "\n",
    "param_B = 20\n",
    "distance_base = 50\n",
    "rate_base = 50\n",
    "param_alpha = solve_param(distance=distance_base, rate=rate_base)\n",
    "\n",
    "print(f\"param_alpha: {param_alpha}\")\n",
    "\n",
    "calculate_x = np.where(np.abs(x) > 100, x, 100)\n",
    "\n",
    "y = param_B * np.log2((1 + param_alpha / calculate_x**2).astype(np.float32))\n",
    "\n",
    "# y = np.clip(y, 0, rate_base)\n",
    "\n",
    "y = np.where(abs(x) < 1000, y, 0)\n",
    "\n",
    "# Figure 并指定大小\n",
    "plt.figure(num=3,figsize=(8,5))\n",
    "# 绘制 y=x^2 的图像，设置 color 为 red，线宽度是 1，线的样式是 --\n",
    "plt.plot(x,y,color='blue',linewidth=1.0,linestyle='--')\n",
    "\n",
    "# 设置 x，y 轴的范围以及 label 标注\n",
    "# plt.xlim(0,x_range)\n",
    "# plt.ylim(0,rate_base * 1.2)\n",
    "plt.xlabel('distance')\n",
    "plt.ylabel('link speed', loc='top')\n",
    "\n",
    "# 设置坐标轴 gca() 获取坐标轴信息\n",
    "ax=plt.gca()\n",
    "# 使用.spines设置边框：x轴；将右边颜色设置为 none。\n",
    "# 使用.set_position设置边框位置：y=0的位置；（位置所有属性：outward，axes，data）\n",
    "ax.spines['right'].set_color('none')\n",
    "ax.spines['top'].set_color('none')\n",
    "\n",
    "# 移动坐标轴\n",
    "# 将 bottom 即是 x 坐标轴设置到 y=0 的位置。\n",
    "# ax.xaxis.set_ticks_position('bottom')\n",
    "# ax.spines['bottom'].set_position(('data',0))\n",
    "\n",
    "# 将 left 即是 y 坐标轴设置到 x=0 的位置。\n",
    "# ax.yaxis.set_ticks_position('left')\n",
    "# ax.spines['left'].set_position(('data',0))\n",
    "\n",
    "# 将 ylabel 设置为水平显示\n",
    "# ax.yaxis.label.set_rotation(0)\n",
    "\n",
    "# 显示图像\n",
    "plt.show()"
   ]
  },
  {
   "cell_type": "markdown",
   "metadata": {},
   "source": [
    "### 保存数据以便在excel中绘制"
   ]
  },
  {
   "cell_type": "code",
   "execution_count": 5,
   "metadata": {},
   "outputs": [],
   "source": [
    "data = np.array([x, y])\n",
    "\n",
    "np.savetxt(\"formula.csv\", data.T, delimiter=\",\", fmt='%.2f')"
   ]
  },
  {
   "cell_type": "markdown",
   "metadata": {},
   "source": [
    "### 详细显示距离和速率的数值关系"
   ]
  },
  {
   "cell_type": "code",
   "execution_count": null,
   "metadata": {},
   "outputs": [],
   "source": [
    "x = np.linspace(50,1000, 20)\n",
    "y = param_B * np.log2((1 + param_alpha / x**2).astype(np.float32))\n",
    "y = np.clip(y, 0, rate_base)\n",
    "\n",
    "for i in range(x.size):\n",
    "    print(f\"distance: {x[i]}, rate: {y[i]}\")\n"
   ]
  }
 ],
 "metadata": {
  "kernelspec": {
   "display_name": "ddpg",
   "language": "python",
   "name": "python3"
  },
  "language_info": {
   "codemirror_mode": {
    "name": "ipython",
    "version": 3
   },
   "file_extension": ".py",
   "mimetype": "text/x-python",
   "name": "python",
   "nbconvert_exporter": "python",
   "pygments_lexer": "ipython3",
   "version": "3.12.2"
  }
 },
 "nbformat": 4,
 "nbformat_minor": 2
}
