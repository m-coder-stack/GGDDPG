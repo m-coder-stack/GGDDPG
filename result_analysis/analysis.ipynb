{
 "cells": [
  {
   "cell_type": "markdown",
   "metadata": {},
   "source": [
    "### 绘制reward-episode曲线"
   ]
  },
  {
   "cell_type": "code",
   "execution_count": null,
   "metadata": {},
   "outputs": [],
   "source": [
    "import numpy as np\n",
    "import matplotlib.pyplot as plt\n",
    "\n",
    "random_with_model_data = np.loadtxt(\"./data/reward_episode/with_model/GridWorld-v0_random_action_with_model.csv\", delimiter=\",\", dtype=float, skiprows=1)\n",
    "ourDDPG_with_model_data = np.loadtxt(\"./data/reward_episode/with_model/OurDDPG_GridWorld-v0_with_model.csv\", delimiter=\",\", dtype=float, skiprows=1)\n",
    "modified_DDPG_with_model_data = np.loadtxt(\"./data/reward_episode/with_model/modified_DDPG_GridWorld-v0_with_model.csv\", delimiter=\",\", dtype=float, skiprows=1)\n",
    "\n",
    "random_without_model_data = np.loadtxt(\"./data/reward_episode/without_model/GridWorld-v0_random_action_without_model.csv\", delimiter=\",\", dtype=float, skiprows=1)\n",
    "ourDDPG_without_model_data = np.loadtxt(\"./data/reward_episode/without_model/OurDDPG_GridWorld-v0_without_model.csv\", delimiter=\",\", dtype=float, skiprows=1)\n",
    "modified_DDPG_without_model_data = np.loadtxt(\"./data/reward_episode/without_model/modified_DDPG_GridWorld-v0_without_model.csv\", delimiter=\",\", dtype=float, skiprows=1)\n",
    "\n",
    "plt.figure(figsize=(10, 6))\n",
    "plt.plot(random_with_model_data[:,1], random_with_model_data[:,2], label=\"random\")\n",
    "plt.plot(ourDDPG_with_model_data[:,1], ourDDPG_with_model_data[:,2], label=\"DDPG\")\n",
    "plt.plot(modified_DDPG_with_model_data[:,1], modified_DDPG_with_model_data[:,2], label=\"GGDDPG\")\n",
    "plt.xlabel(\"Episode\")\n",
    "plt.ylabel(\"Reward\")\n",
    "# plt.title(\"Reward with model\")\n",
    "plt.legend(loc=\"upper right\")\n",
    "plt.savefig(\"./images/reward-episode_with_model.png\")\n",
    "plt.show()\n",
    "\n",
    "plt.figure(figsize=(10, 6))\n",
    "plt.plot(random_without_model_data[:,1], random_without_model_data[:,2], label=\"random\")\n",
    "plt.plot(ourDDPG_without_model_data[:,1], ourDDPG_without_model_data[:,2], label=\"DDPG\")\n",
    "plt.plot(modified_DDPG_without_model_data[:,1], modified_DDPG_without_model_data[:,2], label=\"GGDDPG\")\n",
    "plt.xlabel(\"Episode\")\n",
    "plt.ylabel(\"Reward\")\n",
    "# plt.title(\"Reward without model\")\n",
    "plt.legend(loc=\"upper right\")\n",
    "plt.savefig(\"./images/reward-episode_without_model.png\")\n",
    "plt.show()"
   ]
  },
  {
   "cell_type": "markdown",
   "metadata": {},
   "source": [
    "### 绘制reward_timestep曲线"
   ]
  },
  {
   "cell_type": "code",
   "execution_count": null,
   "metadata": {},
   "outputs": [],
   "source": [
    "# Load data for reward-timestep with model\n",
    "random_with_model_data = np.loadtxt(\"./data/reward_timestep/with_model/GridWorld-v0_random_action_with_model.csv\", delimiter=\",\", dtype=float, skiprows=1)\n",
    "ourDDPG_with_model_data = np.loadtxt(\"./data/reward_timestep/with_model/OurDDPG_GridWorld-v0_with_model.csv\", delimiter=\",\", dtype=float, skiprows=1)\n",
    "modified_DDPG_with_model_data = np.loadtxt(\"./data/reward_timestep/with_model/modified_DDPG_GridWorld-v0_with_model.csv\", delimiter=\",\", dtype=float, skiprows=1)\n",
    "\n",
    "# Load data for reward-timestep without model\n",
    "random_without_model_data = np.loadtxt(\"./data/reward_timestep/without_model/GridWorld-v0_random_action_without_model.csv\", delimiter=\",\", dtype=float, skiprows=1)\n",
    "ourDDPG_without_model_data = np.loadtxt(\"./data/reward_timestep/without_model/OurDDPG_GridWorld-v0_without_model.csv\", delimiter=\",\", dtype=float, skiprows=1)\n",
    "modified_DDPG_without_model_data = np.loadtxt(\"./data/reward_timestep/without_model/modified_DDPG_GridWorld-v0_without_model.csv\", delimiter=\",\", dtype=float, skiprows=1)\n",
    "\n",
    "plt.figure(figsize=(10, 6))\n",
    "plt.plot(random_with_model_data[:,1], random_with_model_data[:,2], label=\"random\")\n",
    "plt.plot(ourDDPG_with_model_data[:,1], ourDDPG_with_model_data[:,2], label=\"DDPG\")\n",
    "plt.plot(modified_DDPG_with_model_data[:,1], modified_DDPG_with_model_data[:,2], label=\"GGDDPG\")\n",
    "plt.xlabel(\"Timestep\")\n",
    "plt.ylabel(\"Reward\")\n",
    "# plt.yscale(\"log\")\n",
    "# plt.title(\"Reward with model\")\n",
    "plt.legend(loc=\"upper right\")\n",
    "plt.savefig(\"./images/reward-timestep_with_model.png\")\n",
    "plt.show()\n",
    "\n",
    "plt.figure(figsize=(10, 6))\n",
    "plt.plot(random_without_model_data[:,1], random_without_model_data[:,2], label=\"random\")\n",
    "plt.plot(ourDDPG_without_model_data[:,1], ourDDPG_without_model_data[:,2], label=\"DDPG\")\n",
    "plt.plot(modified_DDPG_without_model_data[:,1], modified_DDPG_without_model_data[:,2], label=\"GGDDPG\")\n",
    "plt.xlabel(\"Timestep\")\n",
    "plt.ylabel(\"Reward\")\n",
    "# plt.yscale(\"log\")\n",
    "# plt.title(\"Reward without model\")\n",
    "plt.legend(loc=\"upper right\")\n",
    "plt.savefig(\"./images/reward-timestep_without_model.png\")\n",
    "plt.show()"
   ]
  },
  {
   "cell_type": "markdown",
   "metadata": {},
   "source": [
    "### 绘制 reward-eval曲线"
   ]
  },
  {
   "cell_type": "code",
   "execution_count": null,
   "metadata": {},
   "outputs": [],
   "source": [
    "# Load data for reward-timestep with model\n",
    "random_with_model_data = np.loadtxt(\"./data/reward_eval/with_model/GridWorld-v0_random_action_with_model.csv\", delimiter=\",\", dtype=float, skiprows=1)\n",
    "ourDDPG_with_model_data = np.loadtxt(\"./data/reward_eval/with_model/OurDDPG_GridWorld-v0_with_model.csv\", delimiter=\",\", dtype=float, skiprows=1)\n",
    "modified_DDPG_with_model_data = np.loadtxt(\"./data/reward_eval/with_model/modified_DDPG_GridWorld-v0_with_model.csv\", delimiter=\",\", dtype=float, skiprows=1)\n",
    "\n",
    "# Load data for reward-timestep without model\n",
    "random_without_model_data = np.loadtxt(\"./data/reward_eval/without_model/GridWorld-v0_random_action_without_model.csv\", delimiter=\",\", dtype=float, skiprows=1)\n",
    "ourDDPG_without_model_data = np.loadtxt(\"./data/reward_eval/without_model/OurDDPG_GridWorld-v0_without_model.csv\", delimiter=\",\", dtype=float, skiprows=1)\n",
    "modified_DDPG_without_model_data = np.loadtxt(\"./data/reward_eval/without_model/modified_DDPG_GridWorld-v0_without_model.csv\", delimiter=\",\", dtype=float, skiprows=1)\n",
    "\n",
    "plt.figure(figsize=(10, 6))\n",
    "plt.plot(random_with_model_data[:,1], random_with_model_data[:,2], label=\"random\")\n",
    "plt.plot(ourDDPG_with_model_data[:,1], ourDDPG_with_model_data[:,2], label=\"DDPG\")\n",
    "plt.plot(modified_DDPG_with_model_data[:,1], modified_DDPG_with_model_data[:,2], label=\"GGDDPG\")\n",
    "plt.xlabel(\"Episode\")\n",
    "plt.ylabel(\"Reward\")\n",
    "# plt.yscale(\"log\")\n",
    "# plt.title(\"Reward with model\")\n",
    "plt.legend(loc=\"upper right\")\n",
    "plt.savefig(\"./images/reward-eval_with_model.png\")\n",
    "plt.show()\n",
    "\n",
    "plt.figure(figsize=(10, 6))\n",
    "plt.plot(random_without_model_data[:,1], random_without_model_data[:,2], label=\"random\")\n",
    "plt.plot(ourDDPG_without_model_data[:,1], ourDDPG_without_model_data[:,2], label=\"DDPG\")\n",
    "plt.plot(modified_DDPG_without_model_data[:,1], modified_DDPG_without_model_data[:,2], label=\"GGDDPG\")\n",
    "plt.xlabel(\"Episode\")\n",
    "plt.ylabel(\"Reward\")\n",
    "# plt.yscale(\"log\")\n",
    "# plt.title(\"Reward without model\")\n",
    "plt.legend(loc=\"upper right\")\n",
    "plt.savefig(\"./images/reward-eval_without_model.png\")\n",
    "plt.show()"
   ]
  }
 ],
 "metadata": {
  "kernelspec": {
   "display_name": "ddpg",
   "language": "python",
   "name": "python3"
  },
  "language_info": {
   "codemirror_mode": {
    "name": "ipython",
    "version": 3
   },
   "file_extension": ".py",
   "mimetype": "text/x-python",
   "name": "python",
   "nbconvert_exporter": "python",
   "pygments_lexer": "ipython3",
   "version": "3.12.2"
  }
 },
 "nbformat": 4,
 "nbformat_minor": 2
}
