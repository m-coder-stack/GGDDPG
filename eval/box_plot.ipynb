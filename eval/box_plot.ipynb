{
 "cells": [
  {
   "cell_type": "markdown",
   "metadata": {},
   "source": [
    "### 加载数据"
   ]
  },
  {
   "cell_type": "code",
   "execution_count": 1,
   "metadata": {},
   "outputs": [],
   "source": [
    "import numpy as np\n",
    "from loguru import logger\n",
    "\n",
    "modified_DDPG_reward = np.loadtxt('modified_DDPG_reward.txt')\n",
    "OurDDPG_reward = np.loadtxt('OurDDPG_reward.txt')\n",
    "random_reward = np.loadtxt('Random_reward.txt')\n",
    "\n",
    "# logger.info(f\"modified_DDPG_reward: {modified_DDPG_reward}\")\n",
    "# logger.info(f\"OurDDPG_reward: {OurDDPG_reward}\")\n",
    "# logger.info(f\"random_reward: {random_reward}\")"
   ]
  },
  {
   "cell_type": "markdown",
   "metadata": {},
   "source": [
    "### 绘制箱线图"
   ]
  },
  {
   "cell_type": "code",
   "execution_count": null,
   "metadata": {},
   "outputs": [],
   "source": [
    "import matplotlib.pyplot as plt\n",
    "import numpy as np\n",
    "\n",
    "# build data\n",
    "data = [modified_DDPG_reward, OurDDPG_reward, random_reward]\n",
    "\n",
    "# create figure and axis\n",
    "plt.figure(figsize=(10, 6))\n",
    "box = plt.boxplot(data, vert=True, patch_artist=True, labels=['GDDPG', 'DDPG', 'Random'])\n",
    "\n",
    "# set colors\n",
    "colors = ['lightblue', 'lightgreen', 'lightpink']\n",
    "\n",
    "for patch, color in zip(box['boxes'], colors):\n",
    "    patch.set_facecolor(color)\n",
    "\n",
    "# set labels\n",
    "# plt.title('Box Plot ')\n",
    "plt.xlabel('Algorithm')\n",
    "plt.ylabel('Reward')\n",
    "\n",
    "plt.savefig('box_plot.png')\n",
    "\n",
    "# show\n",
    "plt.show()"
   ]
  },
  {
   "cell_type": "markdown",
   "metadata": {},
   "source": [
    "### 处理时间步长数据"
   ]
  },
  {
   "cell_type": "code",
   "execution_count": 3,
   "metadata": {},
   "outputs": [],
   "source": [
    "modified_DDPG_step_reward = np.loadtxt('modified_DDPG_step_reward.txt', delimiter=',')\n",
    "OurDDPG_step_reward = np.loadtxt('OurDDPG_step_reward.txt', delimiter=',')\n",
    "random_step_reward = np.loadtxt('Random_step_reward.txt', delimiter=',')\n",
    "\n",
    "modified_DDPG_step_reward = np.average(modified_DDPG_step_reward, axis=0)\n",
    "OurDDPG_step_reward = np.average(OurDDPG_step_reward, axis=0)\n",
    "random_step_reward = np.average(random_step_reward, axis=0)"
   ]
  },
  {
   "cell_type": "markdown",
   "metadata": {},
   "source": [
    "### 绘制折线图"
   ]
  },
  {
   "cell_type": "code",
   "execution_count": null,
   "metadata": {},
   "outputs": [],
   "source": [
    "plt.figure(figsize=(10, 6))\n",
    "plt.plot(np.arange(len(random_step_reward)), random_step_reward, label=\"Random\")\n",
    "plt.plot(np.arange(len(OurDDPG_step_reward)), OurDDPG_step_reward, label=\"DDPG\")\n",
    "plt.plot(np.arange(len(modified_DDPG_step_reward)), modified_DDPG_step_reward, label=\"GGDDPG\")\n",
    "\n",
    "plt.xlabel(\"Timestep\")\n",
    "plt.ylabel(\"Reward\")\n",
    "plt.title(\"timestep reward\")\n",
    "plt.legend(loc=\"upper right\")\n",
    "# plt.savefig(\"./images/reward-episode_with_model.png\")\n",
    "plt.show()"
   ]
  }
 ],
 "metadata": {
  "kernelspec": {
   "display_name": "ddpg",
   "language": "python",
   "name": "python3"
  },
  "language_info": {
   "codemirror_mode": {
    "name": "ipython",
    "version": 3
   },
   "file_extension": ".py",
   "mimetype": "text/x-python",
   "name": "python",
   "nbconvert_exporter": "python",
   "pygments_lexer": "ipython3",
   "version": "3.12.2"
  }
 },
 "nbformat": 4,
 "nbformat_minor": 2
}
