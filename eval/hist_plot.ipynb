{
 "cells": [
  {
   "cell_type": "markdown",
   "metadata": {},
   "source": [
    "### 加载数据"
   ]
  },
  {
   "cell_type": "code",
   "execution_count": null,
   "metadata": {},
   "outputs": [],
   "source": [
    "import numpy as np\n",
    "from loguru import logger\n",
    "\n",
    "modified_DDPG_client_percent = np.loadtxt('Modified DDPG_client_percent.txt')\n",
    "OurDDPG_client_percent = np.loadtxt('DDPG_client_percent.txt')\n",
    "random_client_percent = np.loadtxt('Random_client_percent.txt')\n",
    "\n",
    "logger.info(f\"modified_DDPG_client_percent sum: {np.sum(modified_DDPG_client_percent)}\")\n",
    "logger.info(f\"OurDDPG_client_percent sum: {np.sum(OurDDPG_client_percent)}\")\n",
    "logger.info(f\"random_client_percent sum: {np.sum(random_client_percent)}\")\n",
    "\n",
    "target_length = 100\n",
    "fill_value = 0.0\n",
    "\n",
    "\n",
    "logger.info(f\"modified_DDPG_client_percent length: {sum(modified_DDPG_client_percent != 0)}\")\n",
    "logger.info(f\"OurDDPG_client_percent length: {sum(OurDDPG_client_percent != 0)}\")\n",
    "logger.info(f\"random_client_percent length: {sum(random_client_percent != 0)}\")\n",
    "# modified_DDPG_client_percent = np.pad(modified_DDPG_client_percent, (0, target_length - len(modified_DDPG_client_percent)), 'constant', constant_values=fill_value)\n",
    "# OurDDPG_client_percent = np.pad(OurDDPG_client_percent, (0, target_length - len(OurDDPG_client_percent)), 'constant', constant_values=fill_value)\n",
    "# random_client_percent = np.pad(random_client_percent, (0, target_length - len(random_client_percent)), 'constant', constant_values=fill_value)"
   ]
  },
  {
   "cell_type": "markdown",
   "metadata": {},
   "source": [
    "### 绘制直方图"
   ]
  },
  {
   "cell_type": "code",
   "execution_count": null,
   "metadata": {},
   "outputs": [],
   "source": [
    "import matplotlib.pyplot as plt\n",
    "\n",
    "plt.figure(figsize=(10, 6))\n",
    "\n",
    "data = [modified_DDPG_client_percent, OurDDPG_client_percent, random_client_percent]\n",
    "labels = ['GGDDPG', 'DDPG', 'Random']\n",
    "plt.hist(data, bins=np.arange(0, 1.1, 0.1), histtype='bar', label=labels)\n",
    "\n",
    "plt.xticks(np.arange(0, 1.1, 0.1))\n",
    "plt.xlabel('arrive rate')\n",
    "plt.ylabel('Percent(%)')\n",
    "plt.title('Client Percent Comparison')\n",
    "plt.legend()\n",
    "plt.grid(True)\n",
    "\n",
    "plt.show()"
   ]
  },
  {
   "cell_type": "markdown",
   "metadata": {},
   "source": [
    "### 绘制叠加直方图"
   ]
  },
  {
   "cell_type": "code",
   "execution_count": null,
   "metadata": {},
   "outputs": [],
   "source": [
    "split_count = 5\n",
    "split_range = 1.0 / split_count\n",
    "data = []\n",
    "for i in range(split_count):\n",
    "    current_data = []\n",
    "    modified_DDPG_index = np.where(np.all([i * split_range < modified_DDPG_client_percent, modified_DDPG_client_percent <= (i + 1) * split_range], axis=0))\n",
    "    current_modified_DDPG_percent = np.sum(modified_DDPG_client_percent[modified_DDPG_index])\n",
    "    current_data.append(current_modified_DDPG_percent)\n",
    "\n",
    "    OurDDPG_index = np.where(np.all([i * split_range < OurDDPG_client_percent, OurDDPG_client_percent <= (i + 1) * split_range], axis=0))\n",
    "    current_OurDDPG_percent = np.sum(OurDDPG_client_percent[OurDDPG_index])\n",
    "    current_data.append(current_OurDDPG_percent)\n",
    "\n",
    "    random_index = np.where(np.all([i * split_range < random_client_percent, random_client_percent <= (i + 1) * split_range], axis=0))\n",
    "    current_random_percent = np.sum(random_client_percent[random_index])\n",
    "    current_data.append(current_random_percent)\n",
    "    data.append(current_data)\n",
    "\n",
    "# for i in range(split_count):\n",
    "#     logger.info(f'[{i * split_range}, {(i + 1) * split_range})')\n",
    "#     logger.info(f'GDDPG: {data[i][0]}')\n",
    "#     logger.info(f'DDPG: {data[i][1]}')\n",
    "#     logger.info(f'Random: {data[i][2]}')\n",
    "\n",
    "logger.info(f'sum: {np.sum(data, axis=0)}')\n",
    "logger.info(f'modified_DDPG_client_percent: {np.sum(modified_DDPG_client_percent)}')\n",
    "logger.info(f'OurDDPG_client_percent: {np.sum(OurDDPG_client_percent)}')\n",
    "logger.info(f'random_client_percent: {np.sum(random_client_percent)}')\n",
    "\n",
    "value_labels = []\n",
    "for i in range(split_count):\n",
    "    value_labels.append(f'clients that satisfy {i * split_range:.1f}$<$reach rate$\\\\leq${(i + 1) * split_range:.1f}')\n",
    "\n",
    "plt.figure(figsize=(10, 6))\n",
    "\n",
    "colors = plt.cm.tab10(np.linspace(0, 1, split_count))\n",
    "\n",
    "bottom = np.zeros(3)\n",
    "for i in range(split_count):\n",
    "    plt.bar(labels, data[i], label=value_labels[i], width=0.4, bottom=bottom, color=colors[i])\n",
    "    bottom += data[i]\n",
    "\n",
    "plt.xlabel('Algorithm')\n",
    "plt.ylabel('Reward')\n",
    "plt.title('Reward contribution of diifferent type client Comparison')\n",
    "plt.legend()\n",
    "plt.show()"
   ]
  },
  {
   "cell_type": "code",
   "execution_count": null,
   "metadata": {},
   "outputs": [],
   "source": [
    "value_labels = []\n",
    "ratio = 20\n",
    "for i in range(split_count):\n",
    "    value_labels.append(f'clients that satisfy {ratio * i * split_range:.1f}$<$throughput$\\\\leq${ ratio * (i + 1) * split_range:.1f}')\n",
    "\n",
    "plt.figure(figsize=(10, 6))\n",
    "data = np.array(data)\n",
    "\n",
    "colors = plt.cm.tab10(np.linspace(0, 1, split_count))\n",
    "\n",
    "bottom = np.zeros(3)\n",
    "for i in range(split_count):\n",
    "    plt.bar(labels, data[i] * ratio, label=value_labels[i], width=0.4, bottom=bottom, color=colors[i])\n",
    "    bottom += data[i] * ratio\n",
    "\n",
    "plt.xlabel('Algorithm')\n",
    "plt.ylabel('Throughput')\n",
    "plt.title('Throughput contribution of diifferent type client Comparison')\n",
    "plt.legend()\n",
    "plt.show()"
   ]
  },
  {
   "cell_type": "markdown",
   "metadata": {},
   "source": [
    "### 绘制节点数量占比直方图\n",
    "\n",
    "首先进行数据处理"
   ]
  },
  {
   "cell_type": "code",
   "execution_count": null,
   "metadata": {},
   "outputs": [],
   "source": [
    "logger.info(f\"modified_DDPG_client_percent sum: {np.sum(modified_DDPG_client_percent)}\")\n",
    "logger.info(f\"OurDDPG_client_percent sum: {np.sum(OurDDPG_client_percent)}\")\n",
    "logger.info(f\"random_client_percent sum: {np.sum(random_client_percent)}\")\n",
    "\n",
    "modified_DDPG_client_percent = modified_DDPG_client_percent[modified_DDPG_client_percent != 0]\n",
    "OurDDPG_client_percent = OurDDPG_client_percent[OurDDPG_client_percent != 0]\n",
    "random_client_percent = random_client_percent[random_client_percent != 0]\n",
    "\n",
    "logger.info(f\"modified_DDPG_client_percent sum: {np.sum(modified_DDPG_client_percent)}\")\n",
    "logger.info(f\"OurDDPG_client_percent sum: {np.sum(OurDDPG_client_percent)}\")\n",
    "logger.info(f\"random_client_percent sum: {np.sum(random_client_percent)}\")\n",
    "\n",
    "logger.info(f\"modified_DDPG_client_percent length: {len(modified_DDPG_client_percent)}\")\n",
    "logger.info(f\"OurDDPG_client_percent length: {len(OurDDPG_client_percent)}\")\n",
    "logger.info(f\"random_client_percent length: {len(random_client_percent)}\")"
   ]
  },
  {
   "cell_type": "markdown",
   "metadata": {},
   "source": [
    "然后进行不同类别占比的统计"
   ]
  },
  {
   "cell_type": "code",
   "execution_count": 6,
   "metadata": {},
   "outputs": [],
   "source": [
    "split_count = 5\n",
    "split_range = 1.0 / split_count\n",
    "data = [[], [], []]\n",
    "\n",
    "for i in range(split_count):\n",
    "    modified_DDPG_index = np.where(np.all([i * split_range < modified_DDPG_client_percent, modified_DDPG_client_percent <= (i + 1) * split_range], axis=0))\n",
    "    data[0].append(len(modified_DDPG_index[0]))\n",
    "\n",
    "    OurDDPG_index = np.where(np.all([i * split_range < OurDDPG_client_percent, OurDDPG_client_percent <= (i + 1) * split_range], axis=0))\n",
    "    data[1].append(len(OurDDPG_index[0]))\n",
    "\n",
    "    random_index = np.where(np.all([i * split_range < random_client_percent, random_client_percent <= (i + 1) * split_range], axis=0))\n",
    "    data[2].append(len(random_index[0]))\n",
    "\n",
    "for i in range(len(data)):\n",
    "    data[i] = data[i][::-1]\n",
    "    data[i].append(100 - sum(data[i]))"
   ]
  },
  {
   "cell_type": "markdown",
   "metadata": {},
   "source": [
    "绘制图像"
   ]
  },
  {
   "cell_type": "code",
   "execution_count": null,
   "metadata": {},
   "outputs": [],
   "source": [
    "value_labels = []\n",
    "for i in range(split_count):\n",
    "    value_labels.append(f'clients that satisfy {i * split_range:.1f}$<$reach rate$\\\\leq${(i + 1) * split_range:.1f}')\n",
    "value_labels = value_labels[::-1]\n",
    "value_labels.append('Unreachable client')\n",
    "\n",
    "plt.figure(figsize=(10, 6))\n",
    "data = np.array(data)\n",
    "\n",
    "colors = plt.cm.tab20c(np.linspace(0, 1, split_count+1))\n",
    "\n",
    "bottom = np.zeros(3)\n",
    "for i in range(split_count+1):\n",
    "    plt.bar(labels, [value[i] for value in data], label=value_labels[i], width=0.4, bottom=bottom, color=colors[i])\n",
    "    bottom += [value[i] for value in data]\n",
    "\n",
    "plt.xlabel('Algorithm')\n",
    "plt.ylabel('client num')\n",
    "plt.title('Num of diifferent type client Comparison')\n",
    "plt.legend(loc='upper right')\n",
    "plt.show()\n",
    "\n"
   ]
  }
 ],
 "metadata": {
  "kernelspec": {
   "display_name": "ddpg",
   "language": "python",
   "name": "python3"
  },
  "language_info": {
   "codemirror_mode": {
    "name": "ipython",
    "version": 3
   },
   "file_extension": ".py",
   "mimetype": "text/x-python",
   "name": "python",
   "nbconvert_exporter": "python",
   "pygments_lexer": "ipython3",
   "version": "3.12.2"
  }
 },
 "nbformat": 4,
 "nbformat_minor": 2
}
