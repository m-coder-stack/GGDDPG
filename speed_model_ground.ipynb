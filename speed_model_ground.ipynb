{
 "cells": [
  {
   "cell_type": "markdown",
   "metadata": {},
   "source": [
    "### 加载数据"
   ]
  },
  {
   "cell_type": "code",
   "execution_count": null,
   "metadata": {},
   "outputs": [],
   "source": [
    "from speed_model import get_data\n",
    "\n",
    "x_train, y_train, z_train = get_data(\"./speed_modeling_data/air_ground_data.csv\")\n",
    "\n",
    "print(f\"x_train: {x_train}\")\n",
    "print(f\"y_train: {y_train}\")\n",
    "print(f\"z_train: \\n{z_train}\")\n"
   ]
  },
  {
   "cell_type": "markdown",
   "metadata": {},
   "source": [
    "### 对数据进行后处理，通过一次样条插值补充数据"
   ]
  },
  {
   "cell_type": "code",
   "execution_count": 2,
   "metadata": {},
   "outputs": [],
   "source": [
    "# from speed_model import expand_data\n",
    "\n",
    "# x_train, y_train, z_train = expand_data(x_train, y_train, z_train, scale=(2, 2))\n",
    "\n",
    "# print(f\"x_train: {x_train}\")\n",
    "# print(f\"y_train: {y_train}\")\n",
    "# print(f\"z_train: \\n{z_train}\")"
   ]
  },
  {
   "cell_type": "markdown",
   "metadata": {},
   "source": [
    "### 利用数据进行建模"
   ]
  },
  {
   "cell_type": "code",
   "execution_count": 3,
   "metadata": {},
   "outputs": [],
   "source": [
    "from speed_model import get_model\n",
    "\n",
    "model = get_model(x_train=x_train, y_train=y_train, z_train=z_train, method=\"linear\")"
   ]
  },
  {
   "cell_type": "markdown",
   "metadata": {},
   "source": [
    "### 绘制三维图像"
   ]
  },
  {
   "cell_type": "code",
   "execution_count": null,
   "metadata": {},
   "outputs": [],
   "source": [
    "import matplotlib.pyplot as plt\n",
    "import numpy\n",
    "\n",
    "# 生成新的数据点\n",
    "# 生成细分的 x 和 y 值用于绘制插值曲面\n",
    "x_new = numpy.linspace(x_train[0], x_train[-1], 1000)\n",
    "y_new = numpy.linspace(y_train[0], y_train[-1], 1000)\n",
    "X_new, Y_new = numpy.meshgrid(x_new, y_new)\n",
    "points = numpy.array([X_new.ravel(), Y_new.ravel()]).T\n",
    "Z_new = model(points).reshape(X_new.shape)\n",
    "\n",
    "# 三维可视化\n",
    "fig = plt.figure(figsize=(10, 6))\n",
    "ax = fig.add_subplot(111, projection='3d')\n",
    "ax.plot_surface(X_new, Y_new, Z_new, cmap='viridis')\n",
    "\n",
    "# 将训练数据点标注在图中\n",
    "# ax.scatter(data[:, 0], data[:, 1], data[:, 2], color='red', marker='o', label='Training data')\n",
    "\n",
    "\n",
    "# 反转坐标轴\n",
    "# ax.invert_xaxis()\n",
    "ax.invert_yaxis()\n",
    "# ax.invert_zaxis()\n",
    "\n",
    "# 添加标签和标题\n",
    "ax.set_xlabel('distance')\n",
    "ax.set_ylabel('height')\n",
    "ax.set_zlabel('link speed')\n",
    "# ax.set_title('Relationship between distance, height and link speed')\n",
    "\n",
    "# 调整刻度标签的字体大小\n",
    "# ax.tick_params(axis='both', which='major', labelsize=10)\n",
    "plt.savefig(\"./pictures/ground/speed_modeling.png\", format=\"png\")\n",
    "plt.show()"
   ]
  },
  {
   "cell_type": "markdown",
   "metadata": {},
   "source": [
    "### 绘制二维图像"
   ]
  },
  {
   "cell_type": "code",
   "execution_count": null,
   "metadata": {},
   "outputs": [],
   "source": [
    "# 生成细分的 x 值用于绘制插值曲面\n",
    "x_new = numpy.linspace(x_train[0], x_train[-1], 100)\n",
    "\n",
    "# 给定的 y 值\n",
    "y_values = y_train\n",
    "\n",
    "plt.figure(figsize=(10, 6))\n",
    "\n",
    "# 绘制每个给定 y 值下 z 随 x 变化的图像\n",
    "for y in y_values:\n",
    "    z_values = model(numpy.array([x_new, numpy.full_like(x_new, y)]).T)\n",
    "    plt.plot(x_new, z_values, label=f\"height={y}\")\n",
    "    plt.scatter(x_train, z_train[:, numpy.where(y_train == y)[0][0]], color='red')\n",
    "\n",
    "plt.xlabel('distance')\n",
    "plt.ylabel('link speed')\n",
    "# plt.title('link speed vs distance for different height values')\n",
    "plt.legend()\n",
    "plt.savefig(\"./pictures/ground/speed_modeling_distance.png\", format=\"png\")\n",
    "plt.show()"
   ]
  },
  {
   "cell_type": "code",
   "execution_count": null,
   "metadata": {},
   "outputs": [],
   "source": [
    "# 生成细分的 y 值用于绘制插值曲面\n",
    "y_new = numpy.linspace(y_train[0], y_train[-1], 100)\n",
    "\n",
    "# 给定的 x 值\n",
    "x_values = numpy.linspace(x_train[0], x_train[-1], 7)\n",
    "\n",
    "plt.figure(figsize=(10, 6))\n",
    "\n",
    "# 绘制每个给定 x 值下 z 随 y 变化的图像\n",
    "for x in x_values:\n",
    "    z_values = model(numpy.array([numpy.full_like(y_new, x), y_new]).T)\n",
    "    plt.plot(y_new, z_values, label=f\"distance={x}\")\n",
    "    plt.scatter(y_train, z_train[numpy.where(x_train == x)[0][0]], color='red')\n",
    "\n",
    "\n",
    "\n",
    "plt.xlabel('height')\n",
    "plt.ylabel('link speed')\n",
    "# plt.title('link speed vs height for different distance values')\n",
    "plt.legend()\n",
    "plt.savefig(\"./pictures/ground/speed_modeling_height.png\", format=\"png\")\n",
    "plt.show()"
   ]
  }
 ],
 "metadata": {
  "kernelspec": {
   "display_name": "ddpg",
   "language": "python",
   "name": "python3"
  },
  "language_info": {
   "codemirror_mode": {
    "name": "ipython",
    "version": 3
   },
   "file_extension": ".py",
   "mimetype": "text/x-python",
   "name": "python",
   "nbconvert_exporter": "python",
   "pygments_lexer": "ipython3",
   "version": "3.12.2"
  }
 },
 "nbformat": 4,
 "nbformat_minor": 2
}
